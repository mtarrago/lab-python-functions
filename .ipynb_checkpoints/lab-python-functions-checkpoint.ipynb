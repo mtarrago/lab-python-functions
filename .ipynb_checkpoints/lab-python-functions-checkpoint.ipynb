{
 "cells": [
  {
   "cell_type": "markdown",
   "metadata": {},
   "source": [
    "# Lab | Functions"
   ]
  },
  {
   "cell_type": "markdown",
   "metadata": {
    "tags": []
   },
   "source": [
    "## Exercise: Managing Customer Orders with Functions\n",
    "\n",
    "In the previous exercise, you improved the code for managing customer orders by using loops and flow control. Now, let's take it a step further and refactor the code by introducing functions.\n",
    "\n",
    "Follow the steps below to complete the exercise:\n",
    "\n",
    "1. Define a function named `initialize_inventory` that takes `products` as a parameter. Inside the function, implement the code for initializing the inventory dictionary using a loop and user input.\n",
    "\n",
    "2. Define a function named `get_customer_orders` that takes no parameters. Inside the function, implement the code for prompting the user to enter the product names using a loop. The function should return the `customer_orders` set.\n",
    "\n",
    "3. Define a function named `update_inventory` that takes `customer_orders` and `inventory` as parameters. Inside the function, implement the code for updating the inventory dictionary based on the customer orders.\n",
    "\n",
    "4. Define a function named `calculate_order_statistics` that takes `customer_orders` and `products` as parameters. Inside the function, implement the code for calculating the order statistics (total products ordered, and percentage of unique products ordered). The function should return these values.\n",
    "\n",
    "5. Define a function named `print_order_statistics` that takes `order_statistics` as a parameter. Inside the function, implement the code for printing the order statistics.\n",
    "\n",
    "6. Define a function named `print_updated_inventory` that takes `inventory` as a parameter. Inside the function, implement the code for printing the updated inventory.\n",
    "\n",
    "7. Call the functions in the appropriate sequence to execute the program and manage customer orders.\n",
    "\n",
    "Hints for functions:\n",
    "\n",
    "- Consider the input parameters required for each function and their return values.\n",
    "- Utilize function parameters and return values to transfer data between functions.\n",
    "- Test your functions individually to ensure they work correctly.\n",
    "\n",
    " "
   ]
  },
  {
   "cell_type": "code",
   "execution_count": 21,
   "metadata": {},
   "outputs": [],
   "source": [
    "#create the list of available products\n",
    "products = [\"t-shirt\",\"mug\",\"hat\",\"book\",\"keychain\"]\n",
    "\n",
    "#1. Define a function named `initialize_inventory` that takes `products` as a parameter. \n",
    "#Inside the function, implement the code for initializing the inventory dictionary using a \n",
    "#loop and user input.\n",
    "\n",
    "\n",
    "def initialize_inventory(products):\n",
    "    \"\"\"Creates a dictionary to store the inventory\"\"\"\n",
    "    for product in products:        \n",
    "        value = int(input(f\"Enter the number of {product}s: \"))\n",
    "        inventory[product] = value\n",
    "#    print(inventory)\n",
    "    return inventory\n",
    "\n",
    "def get_customer_orders():\n",
    "    \"\"\"Groups the items ordered by the costumer\"\"\"\n",
    "    answer = \"yes\"\n",
    "    while answer == \"yes\":\n",
    "        customer_orders.add(input(\"Enter the item that you want to order: \"))\n",
    "        answer = input(\"Do you want to order another product? yes/no\")\n",
    "    return customer_orders\n",
    "    \n",
    "def update_inventory(customer_orders, inventory):\n",
    "    \"\"\"Modifies the inventory according to the customer's orders\"\"\"\n",
    "    for item in customer_orders:\n",
    "        inventory[item] -= 1\n",
    "    return inventory\n",
    "\n",
    "def calculate_order_statistics(customer_orders, products):\n",
    "    \"\"\"Calculates the total amount and percentage of unique products ordered.\"\"\" \n",
    "    TOP = len(customer_orders) #calculates the total amount of ordered products\n",
    " #   order_statistics.add(TOP)\n",
    "    POP = len(customer_orders)*100/len(products) #calculates the percetage of unique products ordered\n",
    " #   order_statistics.add(POP)\n",
    "    return TOP, POP\n",
    "\n",
    "def print_order_statistics(order_statistics):\n",
    "    \"\"\"Displays the order statistics\"\"\"\n",
    "    order_statistics = [TOP, POP]\n",
    "    print(order_statistics)\n",
    "    \n",
    "def print_updated_inventory(inventory):\n",
    "    \"\"\"Displays the updated inventory\"\"\" \n",
    "    print(inventory)\n"
   ]
  },
  {
   "cell_type": "code",
   "execution_count": 22,
   "metadata": {},
   "outputs": [
    {
     "name": "stdout",
     "output_type": "stream",
     "text": [
      "Enter the number of t-shirts: 11\n",
      "Enter the number of mugs: 11\n",
      "Enter the number of hats: 11\n",
      "Enter the number of books: 11\n",
      "Enter the number of keychains: 11\n"
     ]
    },
    {
     "data": {
      "text/plain": [
       "{'t-shirt': 11, 'mug': 11, 'hat': 11, 'book': 11, 'keychain': 11}"
      ]
     },
     "execution_count": 22,
     "metadata": {},
     "output_type": "execute_result"
    }
   ],
   "source": [
    "inventory = {}\n",
    "initialize_inventory(products)"
   ]
  },
  {
   "cell_type": "code",
   "execution_count": 23,
   "metadata": {},
   "outputs": [
    {
     "name": "stdout",
     "output_type": "stream",
     "text": [
      "Enter the item that you want to order: book\n",
      "Do you want to order another product? yes/noyes\n",
      "Enter the item that you want to order: mug\n",
      "Do you want to order another product? yes/nono\n"
     ]
    },
    {
     "data": {
      "text/plain": [
       "{'book', 'mug'}"
      ]
     },
     "execution_count": 23,
     "metadata": {},
     "output_type": "execute_result"
    }
   ],
   "source": [
    "customer_orders = set()\n",
    "get_customer_orders()"
   ]
  },
  {
   "cell_type": "code",
   "execution_count": 24,
   "metadata": {},
   "outputs": [
    {
     "data": {
      "text/plain": [
       "({'t-shirt': 11, 'mug': 10, 'hat': 11, 'book': 10, 'keychain': 11},\n",
       " {'book', 'mug'})"
      ]
     },
     "execution_count": 24,
     "metadata": {},
     "output_type": "execute_result"
    }
   ],
   "source": [
    "update_inventory(customer_orders, inventory)"
   ]
  },
  {
   "cell_type": "code",
   "execution_count": 25,
   "metadata": {},
   "outputs": [
    {
     "data": {
      "text/plain": [
       "(2, 40.0)"
      ]
     },
     "execution_count": 25,
     "metadata": {},
     "output_type": "execute_result"
    }
   ],
   "source": [
    "calculate_order_statistics(customer_orders, products)"
   ]
  },
  {
   "cell_type": "code",
   "execution_count": 26,
   "metadata": {},
   "outputs": [
    {
     "ename": "NameError",
     "evalue": "name 'TOP' is not defined",
     "output_type": "error",
     "traceback": [
      "\u001b[0;31m---------------------------------------------------------------------------\u001b[0m",
      "\u001b[0;31mNameError\u001b[0m                                 Traceback (most recent call last)",
      "\u001b[0;32m<ipython-input-26-ff3656c115b0>\u001b[0m in \u001b[0;36m<module>\u001b[0;34m\u001b[0m\n\u001b[0;32m----> 1\u001b[0;31m \u001b[0mprint_order_statistics\u001b[0m\u001b[0;34m(\u001b[0m\u001b[0morder_statistics\u001b[0m\u001b[0;34m)\u001b[0m\u001b[0;34m\u001b[0m\u001b[0;34m\u001b[0m\u001b[0m\n\u001b[0m",
      "\u001b[0;32m<ipython-input-21-b9535caed7db>\u001b[0m in \u001b[0;36mprint_order_statistics\u001b[0;34m(order_statistics)\u001b[0m\n\u001b[1;32m     39\u001b[0m \u001b[0;32mdef\u001b[0m \u001b[0mprint_order_statistics\u001b[0m\u001b[0;34m(\u001b[0m\u001b[0morder_statistics\u001b[0m\u001b[0;34m)\u001b[0m\u001b[0;34m:\u001b[0m\u001b[0;34m\u001b[0m\u001b[0;34m\u001b[0m\u001b[0m\n\u001b[1;32m     40\u001b[0m     \u001b[0;34m\"\"\"Displays the order statistics\"\"\"\u001b[0m\u001b[0;34m\u001b[0m\u001b[0;34m\u001b[0m\u001b[0m\n\u001b[0;32m---> 41\u001b[0;31m     \u001b[0morder_statistics\u001b[0m \u001b[0;34m=\u001b[0m \u001b[0;34m[\u001b[0m\u001b[0mTOP\u001b[0m\u001b[0;34m,\u001b[0m \u001b[0mPOP\u001b[0m\u001b[0;34m]\u001b[0m\u001b[0;34m\u001b[0m\u001b[0;34m\u001b[0m\u001b[0m\n\u001b[0m\u001b[1;32m     42\u001b[0m     \u001b[0mprint\u001b[0m\u001b[0;34m(\u001b[0m\u001b[0morder_statistics\u001b[0m\u001b[0;34m)\u001b[0m\u001b[0;34m\u001b[0m\u001b[0;34m\u001b[0m\u001b[0m\n\u001b[1;32m     43\u001b[0m \u001b[0;34m\u001b[0m\u001b[0m\n",
      "\u001b[0;31mNameError\u001b[0m: name 'TOP' is not defined"
     ]
    }
   ],
   "source": [
    "print_order_statistics(order_statistics)"
   ]
  },
  {
   "cell_type": "code",
   "execution_count": 18,
   "metadata": {},
   "outputs": [
    {
     "name": "stdout",
     "output_type": "stream",
     "text": [
      "{'t-shirt': 11, 'mug': 10, 'hat': 10, 'book': 10, 'keychain': 11}\n"
     ]
    }
   ],
   "source": [
    "print_updated_inventory(inventory)"
   ]
  },
  {
   "cell_type": "code",
   "execution_count": null,
   "metadata": {},
   "outputs": [],
   "source": []
  }
 ],
 "metadata": {
  "kernelspec": {
   "display_name": "Python 3",
   "language": "python",
   "name": "python3"
  },
  "language_info": {
   "codemirror_mode": {
    "name": "ipython",
    "version": 3
   },
   "file_extension": ".py",
   "mimetype": "text/x-python",
   "name": "python",
   "nbconvert_exporter": "python",
   "pygments_lexer": "ipython3",
   "version": "3.7.6"
  }
 },
 "nbformat": 4,
 "nbformat_minor": 5
}
